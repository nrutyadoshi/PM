{
  "nbformat": 4,
  "nbformat_minor": 0,
  "metadata": {
    "colab": {
      "name": "Credit_Risk_Analysis.ipynb",
      "provenance": [],
      "collapsed_sections": [],
      "include_colab_link": true
    },
    "kernelspec": {
      "name": "python3",
      "display_name": "Python 3"
    }
  },
  "cells": [
    {
      "cell_type": "markdown",
      "metadata": {
        "id": "view-in-github",
        "colab_type": "text"
      },
      "source": [
        "<a href=\"https://colab.research.google.com/github/nrutyadoshi/PM/blob/master/Credit_Risk_Analysis.ipynb\" target=\"_parent\"><img src=\"https://colab.research.google.com/assets/colab-badge.svg\" alt=\"Open In Colab\"/></a>"
      ]
    },
    {
      "cell_type": "code",
      "metadata": {
        "id": "do0BHMuTLVsE",
        "colab_type": "code",
        "colab": {}
      },
      "source": [
        "import numpy as np\n",
        "import pandas as pd\n",
        "import matplotlib.pyplot as plt\n",
        "import seaborn as sns"
      ],
      "execution_count": 0,
      "outputs": []
    },
    {
      "cell_type": "code",
      "metadata": {
        "id": "eqnUkPwiLnkF",
        "colab_type": "code",
        "outputId": "5b02fbc5-ddf7-475c-e244-5645f13d0d56",
        "colab": {
          "base_uri": "https://localhost:8080/",
          "height": 71
        }
      },
      "source": [
        "url = \"https://raw.githubusercontent.com/reubence/PM/master/CRM_TrainData.csv\"\n",
        "data = pd.read_csv(url)"
      ],
      "execution_count": 0,
      "outputs": [
        {
          "output_type": "stream",
          "text": [
            "/usr/local/lib/python3.6/dist-packages/IPython/core/interactiveshell.py:2718: DtypeWarning: Columns (10,16) have mixed types.Specify dtype option on import or set low_memory=False.\n",
            "  interactivity=interactivity, compiler=compiler, result=result)\n"
          ],
          "name": "stderr"
        }
      ]
    },
    {
      "cell_type": "code",
      "metadata": {
        "id": "N1DK8RFdMN3n",
        "colab_type": "code",
        "outputId": "96e91d70-df98-4e76-8166-23b7bbc12d01",
        "colab": {
          "base_uri": "https://localhost:8080/",
          "height": 530
        }
      },
      "source": [
        "data.head()"
      ],
      "execution_count": 0,
      "outputs": [
        {
          "output_type": "execute_result",
          "data": {
            "text/html": [
              "<div>\n",
              "<style scoped>\n",
              "    .dataframe tbody tr th:only-of-type {\n",
              "        vertical-align: middle;\n",
              "    }\n",
              "\n",
              "    .dataframe tbody tr th {\n",
              "        vertical-align: top;\n",
              "    }\n",
              "\n",
              "    .dataframe thead th {\n",
              "        text-align: right;\n",
              "    }\n",
              "</style>\n",
              "<table border=\"1\" class=\"dataframe\">\n",
              "  <thead>\n",
              "    <tr style=\"text-align: right;\">\n",
              "      <th></th>\n",
              "      <th>Loan ID</th>\n",
              "      <th>Customer ID</th>\n",
              "      <th>Loan Status</th>\n",
              "      <th>Current Loan Amount</th>\n",
              "      <th>Term</th>\n",
              "      <th>Credit Score</th>\n",
              "      <th>Years in current job</th>\n",
              "      <th>Home Ownership</th>\n",
              "      <th>Annual Income</th>\n",
              "      <th>Purpose</th>\n",
              "      <th>Monthly Debt</th>\n",
              "      <th>Years of Credit History</th>\n",
              "      <th>Months since last delinquent</th>\n",
              "      <th>Number of Open Accounts</th>\n",
              "      <th>Number of Credit Problems</th>\n",
              "      <th>Current Credit Balance</th>\n",
              "      <th>Maximum Open Credit</th>\n",
              "      <th>Bankruptcies</th>\n",
              "      <th>Tax Liens</th>\n",
              "    </tr>\n",
              "  </thead>\n",
              "  <tbody>\n",
              "    <tr>\n",
              "      <th>0</th>\n",
              "      <td>a3fdf1db-e991-4293-976c-7d35564c0aec</td>\n",
              "      <td>74561f96-304a-492d-bc19-a6107d2afee9</td>\n",
              "      <td>Charged Off</td>\n",
              "      <td>10120</td>\n",
              "      <td>Long Term</td>\n",
              "      <td>6920.0</td>\n",
              "      <td>10+ years</td>\n",
              "      <td>Rent</td>\n",
              "      <td>47564.0</td>\n",
              "      <td>Debt Consolidation</td>\n",
              "      <td>990.92</td>\n",
              "      <td>21.8</td>\n",
              "      <td>28.0</td>\n",
              "      <td>10</td>\n",
              "      <td>0</td>\n",
              "      <td>3840</td>\n",
              "      <td>7694</td>\n",
              "      <td>0.0</td>\n",
              "      <td>0.0</td>\n",
              "    </tr>\n",
              "    <tr>\n",
              "      <th>1</th>\n",
              "      <td>c3f8006d-d1ef-4a94-ba55-c48034974205</td>\n",
              "      <td>b8e70101-dd49-4a39-84a6-5f92b390684c</td>\n",
              "      <td>Fully Paid</td>\n",
              "      <td>7144</td>\n",
              "      <td>Short Term</td>\n",
              "      <td>721.0</td>\n",
              "      <td>2 years</td>\n",
              "      <td>Home Mortgage</td>\n",
              "      <td>40820.0</td>\n",
              "      <td>Debt Consolidation</td>\n",
              "      <td>574.88</td>\n",
              "      <td>10.7</td>\n",
              "      <td>NaN</td>\n",
              "      <td>6</td>\n",
              "      <td>0</td>\n",
              "      <td>13269</td>\n",
              "      <td>22565</td>\n",
              "      <td>0.0</td>\n",
              "      <td>0.0</td>\n",
              "    </tr>\n",
              "    <tr>\n",
              "      <th>2</th>\n",
              "      <td>076b722f-3658-47a8-a7f1-5179a9b45ade</td>\n",
              "      <td>0a28e046-9239-4ee0-8770-68a2f72bf2a0</td>\n",
              "      <td>Fully Paid</td>\n",
              "      <td>10100</td>\n",
              "      <td>Short Term</td>\n",
              "      <td>726.0</td>\n",
              "      <td>7 years</td>\n",
              "      <td>Own Home</td>\n",
              "      <td>54540.0</td>\n",
              "      <td>Debt Consolidation</td>\n",
              "      <td>577.22</td>\n",
              "      <td>37.3</td>\n",
              "      <td>NaN</td>\n",
              "      <td>6</td>\n",
              "      <td>0</td>\n",
              "      <td>5373</td>\n",
              "      <td>8667</td>\n",
              "      <td>0.0</td>\n",
              "      <td>0.0</td>\n",
              "    </tr>\n",
              "    <tr>\n",
              "      <th>3</th>\n",
              "      <td>c2d68e37-572b-4a3b-afaa-b55a679c7d67</td>\n",
              "      <td>dc755ef2-1773-4d3b-8b6b-668bbae290c5</td>\n",
              "      <td>Fully Paid</td>\n",
              "      <td>30362</td>\n",
              "      <td>Long Term</td>\n",
              "      <td>708.0</td>\n",
              "      <td>1 year</td>\n",
              "      <td>Home Mortgage</td>\n",
              "      <td>63450.0</td>\n",
              "      <td>Debt Consolidation</td>\n",
              "      <td>1110.37</td>\n",
              "      <td>12.5</td>\n",
              "      <td>52.0</td>\n",
              "      <td>14</td>\n",
              "      <td>0</td>\n",
              "      <td>38329</td>\n",
              "      <td>57207</td>\n",
              "      <td>0.0</td>\n",
              "      <td>0.0</td>\n",
              "    </tr>\n",
              "    <tr>\n",
              "      <th>4</th>\n",
              "      <td>c02558d1-58cb-4b36-9569-ae55baeb328a</td>\n",
              "      <td>f0804ea2-249b-4e6c-ab2a-1554a7ff6a5b</td>\n",
              "      <td>Fully Paid</td>\n",
              "      <td>3571</td>\n",
              "      <td>Short Term</td>\n",
              "      <td>700.0</td>\n",
              "      <td>5 years</td>\n",
              "      <td>Home Mortgage</td>\n",
              "      <td>41370.0</td>\n",
              "      <td>Debt Consolidation</td>\n",
              "      <td>875.67</td>\n",
              "      <td>13.1</td>\n",
              "      <td>6.0</td>\n",
              "      <td>4</td>\n",
              "      <td>0</td>\n",
              "      <td>384</td>\n",
              "      <td>985</td>\n",
              "      <td>0.0</td>\n",
              "      <td>0.0</td>\n",
              "    </tr>\n",
              "  </tbody>\n",
              "</table>\n",
              "</div>"
            ],
            "text/plain": [
              "                                Loan ID  ... Tax Liens\n",
              "0  a3fdf1db-e991-4293-976c-7d35564c0aec  ...       0.0\n",
              "1  c3f8006d-d1ef-4a94-ba55-c48034974205  ...       0.0\n",
              "2  076b722f-3658-47a8-a7f1-5179a9b45ade  ...       0.0\n",
              "3  c2d68e37-572b-4a3b-afaa-b55a679c7d67  ...       0.0\n",
              "4  c02558d1-58cb-4b36-9569-ae55baeb328a  ...       0.0\n",
              "\n",
              "[5 rows x 19 columns]"
            ]
          },
          "metadata": {
            "tags": []
          },
          "execution_count": 430
        }
      ]
    },
    {
      "cell_type": "code",
      "metadata": {
        "id": "ZS8Y3Ao-Mf7x",
        "colab_type": "code",
        "colab": {}
      },
      "source": [
        "data.drop([\"Loan ID\", \"Customer ID\"], 1, inplace = True)"
      ],
      "execution_count": 0,
      "outputs": []
    },
    {
      "cell_type": "code",
      "metadata": {
        "id": "bZYwwXYeWSxf",
        "colab_type": "code",
        "outputId": "7b8ffed3-26c9-49ae-e27f-7fbbd4d65efb",
        "colab": {
          "base_uri": "https://localhost:8080/",
          "height": 323
        }
      },
      "source": [
        "data.dtypes"
      ],
      "execution_count": 0,
      "outputs": [
        {
          "output_type": "execute_result",
          "data": {
            "text/plain": [
              "Loan Status                      object\n",
              "Current Loan Amount               int64\n",
              "Term                             object\n",
              "Credit Score                    float64\n",
              "Years in current job             object\n",
              "Home Ownership                   object\n",
              "Annual Income                   float64\n",
              "Purpose                          object\n",
              "Monthly Debt                     object\n",
              "Years of Credit History         float64\n",
              "Months since last delinquent    float64\n",
              "Number of Open Accounts           int64\n",
              "Number of Credit Problems         int64\n",
              "Current Credit Balance            int64\n",
              "Maximum Open Credit              object\n",
              "Bankruptcies                    float64\n",
              "Tax Liens                       float64\n",
              "dtype: object"
            ]
          },
          "metadata": {
            "tags": []
          },
          "execution_count": 432
        }
      ]
    },
    {
      "cell_type": "markdown",
      "metadata": {
        "id": "9S_Vyfk2CCd-",
        "colab_type": "text"
      },
      "source": [
        "EDA"
      ]
    },
    {
      "cell_type": "code",
      "metadata": {
        "id": "VT2lid5cPcj8",
        "colab_type": "code",
        "colab": {}
      },
      "source": [
        "def clean_int(str): \n",
        "  import re\n",
        "  str1 = re.findall(r'[0-9]+',str) # will take only digits\n",
        "  str2 = ' '.join([elem for elem in str1]) \n",
        "  str3 = int(str2)\n",
        "  return (str3)"
      ],
      "execution_count": 0,
      "outputs": []
    },
    {
      "cell_type": "code",
      "metadata": {
        "id": "6Y4qRRTEPy1y",
        "colab_type": "code",
        "colab": {}
      },
      "source": [
        "# as the data present in the column has string value also \n",
        "cnt=0\n",
        "for row in data['Years in current job']:\n",
        "  try:\n",
        "    data.loc[cnt, 'Years in current job'] = clean_int(row) \n",
        "  except:\n",
        "    data.loc[cnt, 'Years in current job'] = np.nan # as na values are also present\n",
        "  cnt+=1"
      ],
      "execution_count": 0,
      "outputs": []
    },
    {
      "cell_type": "code",
      "metadata": {
        "id": "UNEFLy6KxFZP",
        "colab_type": "code",
        "colab": {}
      },
      "source": [
        "def clean_float(str): \n",
        "  import re\n",
        "  str1 = re.findall(r'[0-9]+[.0-9]*',str)\n",
        "  str2 = ' '.join([elem for elem in str1]) \n",
        "  str3 = float(str2)\n",
        "  return (str3)"
      ],
      "execution_count": 0,
      "outputs": []
    },
    {
      "cell_type": "code",
      "metadata": {
        "id": "pmrDdA7sYAo7",
        "colab_type": "code",
        "colab": {}
      },
      "source": [
        "cnt=0\n",
        "for row in data['Monthly Debt']:\n",
        "    try:\n",
        "        data.loc[cnt, 'Monthly Debt'] = float(row) \n",
        "    except:\n",
        "        data.loc[cnt, 'Monthly Debt'] = clean_float(row)\n",
        "    cnt+=1"
      ],
      "execution_count": 0,
      "outputs": []
    },
    {
      "cell_type": "code",
      "metadata": {
        "id": "yBqDi-50RiGU",
        "colab_type": "code",
        "colab": {}
      },
      "source": [
        "data[\"Monthly Debt\"] = data.apply(lambda row: float(row[\"Monthly Debt\"]),axis=1)"
      ],
      "execution_count": 0,
      "outputs": []
    },
    {
      "cell_type": "code",
      "metadata": {
        "id": "R-U9cvRa3wxe",
        "colab_type": "code",
        "colab": {}
      },
      "source": [
        "cnt=0\n",
        "for row in data['Maximum Open Credit']:\n",
        "    try:\n",
        "      data.loc[cnt, 'Maximum Open Credit'] = clean_int(row) \n",
        "    except:\n",
        "      data.loc[cnt, 'Maximum Open Credit'] = np.nan\n",
        "    cnt+=1"
      ],
      "execution_count": 0,
      "outputs": []
    },
    {
      "cell_type": "code",
      "metadata": {
        "id": "KbriE5CYA6Do",
        "colab_type": "code",
        "outputId": "e4245fa1-3d0b-4642-97c5-7e854d391f5f",
        "colab": {
          "base_uri": "https://localhost:8080/",
          "height": 323
        }
      },
      "source": [
        "data.dtypes"
      ],
      "execution_count": 0,
      "outputs": [
        {
          "output_type": "execute_result",
          "data": {
            "text/plain": [
              "Loan Status                      object\n",
              "Current Loan Amount               int64\n",
              "Term                             object\n",
              "Credit Score                    float64\n",
              "Years in current job             object\n",
              "Home Ownership                   object\n",
              "Annual Income                   float64\n",
              "Purpose                          object\n",
              "Monthly Debt                    float64\n",
              "Years of Credit History         float64\n",
              "Months since last delinquent    float64\n",
              "Number of Open Accounts           int64\n",
              "Number of Credit Problems         int64\n",
              "Current Credit Balance            int64\n",
              "Maximum Open Credit              object\n",
              "Bankruptcies                    float64\n",
              "Tax Liens                       float64\n",
              "dtype: object"
            ]
          },
          "metadata": {
            "tags": []
          },
          "execution_count": 439
        }
      ]
    },
    {
      "cell_type": "code",
      "metadata": {
        "id": "1CWJOtvasqiD",
        "colab_type": "code",
        "colab": {}
      },
      "source": [
        "cnt=0\n",
        "for row in data['Purpose']:\n",
        "    if row in (\"Other\", \"other\", \"renewable_energy\", \"major_purchase\"):\n",
        "        data.loc[cnt, 'Purpose'] = \"Other\"\n",
        "    elif row in (\"Debt Consolidation\"):\n",
        "        data.loc[cnt, 'Purpose'] = \"Debt\"\n",
        "    elif row in (\"Home Improvements\", \"Buy House\", \"moving\"):\n",
        "        data.loc[cnt, 'Purpose'] = \"Home\"\n",
        "    elif row in (\"Business Loan\", \"small_business\"):\n",
        "        data.loc[cnt, 'Purpose'] = \"Business\"\n",
        "    elif row in (\"Buy a Car\", \"small_business\"):\n",
        "        data.loc[cnt, 'Purpose'] = \"Car\"\n",
        "    elif row in (\"Medical Bills\"):\n",
        "        data.loc[cnt, 'Purpose'] = \"Medical\"\n",
        "    elif row in (\"Take a Trip\", \"vacation\"):\n",
        "        data.loc[cnt, 'Purpose'] = \"Vacation\"\n",
        "    elif row in (\"wedding\"):\n",
        "        data.loc[cnt, 'Purpose'] = \"Wedding\"\n",
        "    elif row in (\"Educational Expenses\"):\n",
        "        data.loc[cnt, 'Purpose'] = \"Education\"\n",
        "    cnt+=1"
      ],
      "execution_count": 0,
      "outputs": []
    },
    {
      "cell_type": "code",
      "metadata": {
        "id": "FW3bN2-MtHRm",
        "colab_type": "code",
        "outputId": "e9c0ff8b-332c-48c7-cbc7-f154176dc445",
        "colab": {
          "base_uri": "https://localhost:8080/",
          "height": 187
        }
      },
      "source": [
        "data['Purpose'].value_counts()"
      ],
      "execution_count": 0,
      "outputs": [
        {
          "output_type": "execute_result",
          "data": {
            "text/plain": [
              "Debt         60995\n",
              "Other         7541\n",
              "Home          5261\n",
              "Business      1458\n",
              "Car           1027\n",
              "Medical        852\n",
              "Vacation       523\n",
              "Wedding         89\n",
              "Education       77\n",
              "Name: Purpose, dtype: int64"
            ]
          },
          "metadata": {
            "tags": []
          },
          "execution_count": 441
        }
      ]
    },
    {
      "cell_type": "markdown",
      "metadata": {
        "id": "5Twej6pdBxdx",
        "colab_type": "text"
      },
      "source": [
        "Filling NAN values"
      ]
    },
    {
      "cell_type": "code",
      "metadata": {
        "id": "QZDWLRWjI-Kb",
        "colab_type": "code",
        "colab": {}
      },
      "source": [
        "data['Years in current job'] = data['Years in current job'].fillna(data['Years in current job'].median())"
      ],
      "execution_count": 0,
      "outputs": []
    },
    {
      "cell_type": "code",
      "metadata": {
        "id": "qCqUBGdO_8Xr",
        "colab_type": "code",
        "colab": {}
      },
      "source": [
        "data['Maximum Open Credit'] = data['Maximum Open Credit'].fillna(data['Maximum Open Credit'].median())"
      ],
      "execution_count": 0,
      "outputs": []
    },
    {
      "cell_type": "code",
      "metadata": {
        "id": "gqm4woPUbmnq",
        "colab_type": "code",
        "colab": {}
      },
      "source": [
        "data['Credit Score'] = data['Credit Score'].fillna(data['Credit Score'].median())"
      ],
      "execution_count": 0,
      "outputs": []
    },
    {
      "cell_type": "code",
      "metadata": {
        "id": "R58AMuyXbu6T",
        "colab_type": "code",
        "colab": {}
      },
      "source": [
        "data['Annual Income'] = data['Annual Income'].fillna(data['Annual Income'].median())"
      ],
      "execution_count": 0,
      "outputs": []
    },
    {
      "cell_type": "code",
      "metadata": {
        "id": "S06TQ-ABb9Q2",
        "colab_type": "code",
        "colab": {}
      },
      "source": [
        "data['Months since last delinquent'] = data['Months since last delinquent'].fillna(data['Months since last delinquent'].median())"
      ],
      "execution_count": 0,
      "outputs": []
    },
    {
      "cell_type": "code",
      "metadata": {
        "id": "WYZJkicjccCa",
        "colab_type": "code",
        "colab": {}
      },
      "source": [
        "data['Bankruptcies'] = data['Bankruptcies'].fillna(data['Bankruptcies'].median())\n",
        "data['Tax Liens'] = data['Tax Liens'].fillna(data['Tax Liens'].median())"
      ],
      "execution_count": 0,
      "outputs": []
    },
    {
      "cell_type": "code",
      "metadata": {
        "id": "xMxgrj9JHDw7",
        "colab_type": "code",
        "outputId": "25614f1a-d3db-4319-a6eb-d3dbcb5164b1",
        "colab": {
          "base_uri": "https://localhost:8080/",
          "height": 323
        }
      },
      "source": [
        "data.isnull().sum()"
      ],
      "execution_count": 0,
      "outputs": [
        {
          "output_type": "execute_result",
          "data": {
            "text/plain": [
              "Loan Status                     0\n",
              "Current Loan Amount             0\n",
              "Term                            0\n",
              "Credit Score                    0\n",
              "Years in current job            0\n",
              "Home Ownership                  0\n",
              "Annual Income                   0\n",
              "Purpose                         0\n",
              "Monthly Debt                    0\n",
              "Years of Credit History         0\n",
              "Months since last delinquent    0\n",
              "Number of Open Accounts         0\n",
              "Number of Credit Problems       0\n",
              "Current Credit Balance          0\n",
              "Maximum Open Credit             0\n",
              "Bankruptcies                    0\n",
              "Tax Liens                       0\n",
              "dtype: int64"
            ]
          },
          "metadata": {
            "tags": []
          },
          "execution_count": 448
        }
      ]
    },
    {
      "cell_type": "code",
      "metadata": {
        "id": "ReOIyvWrHECr",
        "colab_type": "code",
        "outputId": "7a886bea-42aa-40cb-f75e-9f1df8534eba",
        "colab": {
          "base_uri": "https://localhost:8080/",
          "height": 323
        }
      },
      "source": [
        "data.dtypes"
      ],
      "execution_count": 0,
      "outputs": [
        {
          "output_type": "execute_result",
          "data": {
            "text/plain": [
              "Loan Status                      object\n",
              "Current Loan Amount               int64\n",
              "Term                             object\n",
              "Credit Score                    float64\n",
              "Years in current job            float64\n",
              "Home Ownership                   object\n",
              "Annual Income                   float64\n",
              "Purpose                          object\n",
              "Monthly Debt                    float64\n",
              "Years of Credit History         float64\n",
              "Months since last delinquent    float64\n",
              "Number of Open Accounts           int64\n",
              "Number of Credit Problems         int64\n",
              "Current Credit Balance            int64\n",
              "Maximum Open Credit             float64\n",
              "Bankruptcies                    float64\n",
              "Tax Liens                       float64\n",
              "dtype: object"
            ]
          },
          "metadata": {
            "tags": []
          },
          "execution_count": 449
        }
      ]
    },
    {
      "cell_type": "markdown",
      "metadata": {
        "id": "t4GqlfbiBn6A",
        "colab_type": "text"
      },
      "source": [
        "Encoding"
      ]
    },
    {
      "cell_type": "code",
      "metadata": {
        "id": "NbphM3FYccRB",
        "colab_type": "code",
        "colab": {}
      },
      "source": [
        "from sklearn.preprocessing import LabelEncoder"
      ],
      "execution_count": 0,
      "outputs": []
    },
    {
      "cell_type": "code",
      "metadata": {
        "id": "0iZ5GZHGcvX5",
        "colab_type": "code",
        "colab": {}
      },
      "source": [
        "label = LabelEncoder()"
      ],
      "execution_count": 0,
      "outputs": []
    },
    {
      "cell_type": "code",
      "metadata": {
        "id": "H-eciGLZda3n",
        "colab_type": "code",
        "outputId": "52458e4e-1282-4f74-ddeb-7bddaa9ea5fc",
        "colab": {
          "base_uri": "https://localhost:8080/",
          "height": 323
        }
      },
      "source": [
        "data.dtypes"
      ],
      "execution_count": 0,
      "outputs": [
        {
          "output_type": "execute_result",
          "data": {
            "text/plain": [
              "Loan Status                      object\n",
              "Current Loan Amount               int64\n",
              "Term                             object\n",
              "Credit Score                    float64\n",
              "Years in current job            float64\n",
              "Home Ownership                   object\n",
              "Annual Income                   float64\n",
              "Purpose                          object\n",
              "Monthly Debt                    float64\n",
              "Years of Credit History         float64\n",
              "Months since last delinquent    float64\n",
              "Number of Open Accounts           int64\n",
              "Number of Credit Problems         int64\n",
              "Current Credit Balance            int64\n",
              "Maximum Open Credit             float64\n",
              "Bankruptcies                    float64\n",
              "Tax Liens                       float64\n",
              "dtype: object"
            ]
          },
          "metadata": {
            "tags": []
          },
          "execution_count": 452
        }
      ]
    },
    {
      "cell_type": "code",
      "metadata": {
        "id": "AleybIsKcvcH",
        "colab_type": "code",
        "colab": {}
      },
      "source": [
        "data['Loan Status'] = label.fit_transform(data['Loan Status'])\n",
        "data['Term'] = label.fit_transform(data['Term'])"
      ],
      "execution_count": 0,
      "outputs": []
    },
    {
      "cell_type": "code",
      "metadata": {
        "id": "hKeFH8ztXd6E",
        "colab_type": "code",
        "colab": {}
      },
      "source": [
        "data['Home Ownership'] = label.fit_transform(data['Home Ownership'])\n",
        "data['Purpose'] = label.fit_transform(data['Purpose'])"
      ],
      "execution_count": 0,
      "outputs": []
    },
    {
      "cell_type": "code",
      "metadata": {
        "id": "A6GfIQPfcvTj",
        "colab_type": "code",
        "colab": {}
      },
      "source": [
        "data = pd.get_dummies(data = data, columns = [\"Home Ownership\", \"Purpose\"])"
      ],
      "execution_count": 0,
      "outputs": []
    },
    {
      "cell_type": "code",
      "metadata": {
        "id": "OnVlopjhcvRd",
        "colab_type": "code",
        "outputId": "41997c3b-77eb-4b58-a9c8-dcb73d6bc1e9",
        "colab": {
          "base_uri": "https://localhost:8080/",
          "height": 510
        }
      },
      "source": [
        "data.dtypes"
      ],
      "execution_count": 0,
      "outputs": [
        {
          "output_type": "execute_result",
          "data": {
            "text/plain": [
              "Loan Status                       int64\n",
              "Current Loan Amount               int64\n",
              "Term                              int64\n",
              "Credit Score                    float64\n",
              "Years in current job            float64\n",
              "Annual Income                   float64\n",
              "Monthly Debt                    float64\n",
              "Years of Credit History         float64\n",
              "Months since last delinquent    float64\n",
              "Number of Open Accounts           int64\n",
              "Number of Credit Problems         int64\n",
              "Current Credit Balance            int64\n",
              "Maximum Open Credit             float64\n",
              "Bankruptcies                    float64\n",
              "Tax Liens                       float64\n",
              "Home Ownership_0                  uint8\n",
              "Home Ownership_1                  uint8\n",
              "Home Ownership_2                  uint8\n",
              "Home Ownership_3                  uint8\n",
              "Purpose_0                         uint8\n",
              "Purpose_1                         uint8\n",
              "Purpose_2                         uint8\n",
              "Purpose_3                         uint8\n",
              "Purpose_4                         uint8\n",
              "Purpose_5                         uint8\n",
              "Purpose_6                         uint8\n",
              "Purpose_7                         uint8\n",
              "Purpose_8                         uint8\n",
              "dtype: object"
            ]
          },
          "metadata": {
            "tags": []
          },
          "execution_count": 456
        }
      ]
    },
    {
      "cell_type": "code",
      "metadata": {
        "id": "WSzP9FYbl-B1",
        "colab_type": "code",
        "colab": {}
      },
      "source": [
        "X = data.drop([\"Loan Status\"],1)\n",
        "Y = data[\"Loan Status\"]"
      ],
      "execution_count": 0,
      "outputs": []
    },
    {
      "cell_type": "code",
      "metadata": {
        "colab_type": "code",
        "id": "O8huRm3GfX7F",
        "colab": {}
      },
      "source": [
        "columns = X.columns"
      ],
      "execution_count": 0,
      "outputs": []
    },
    {
      "cell_type": "code",
      "metadata": {
        "colab_type": "code",
        "id": "gINm46mhfX7Q",
        "colab": {}
      },
      "source": [
        "from sklearn.preprocessing import MinMaxScaler\n",
        "scaler = MinMaxScaler()"
      ],
      "execution_count": 0,
      "outputs": []
    },
    {
      "cell_type": "code",
      "metadata": {
        "colab_type": "code",
        "outputId": "0e63112a-473e-4fa9-cc00-c5943c4f55dc",
        "id": "ZGRTwFy-fX7b",
        "colab": {
          "base_uri": "https://localhost:8080/",
          "height": 275
        }
      },
      "source": [
        "X = pd.DataFrame(scaler.fit_transform(X), columns=columns)\n",
        "X.head()"
      ],
      "execution_count": 0,
      "outputs": [
        {
          "output_type": "execute_result",
          "data": {
            "text/html": [
              "<div>\n",
              "<style scoped>\n",
              "    .dataframe tbody tr th:only-of-type {\n",
              "        vertical-align: middle;\n",
              "    }\n",
              "\n",
              "    .dataframe tbody tr th {\n",
              "        vertical-align: top;\n",
              "    }\n",
              "\n",
              "    .dataframe thead th {\n",
              "        text-align: right;\n",
              "    }\n",
              "</style>\n",
              "<table border=\"1\" class=\"dataframe\">\n",
              "  <thead>\n",
              "    <tr style=\"text-align: right;\">\n",
              "      <th></th>\n",
              "      <th>Current Loan Amount</th>\n",
              "      <th>Term</th>\n",
              "      <th>Credit Score</th>\n",
              "      <th>Years in current job</th>\n",
              "      <th>Annual Income</th>\n",
              "      <th>Monthly Debt</th>\n",
              "      <th>Years of Credit History</th>\n",
              "      <th>Months since last delinquent</th>\n",
              "      <th>Number of Open Accounts</th>\n",
              "      <th>Number of Credit Problems</th>\n",
              "      <th>Current Credit Balance</th>\n",
              "      <th>Maximum Open Credit</th>\n",
              "      <th>Bankruptcies</th>\n",
              "      <th>Tax Liens</th>\n",
              "      <th>Home Ownership_0</th>\n",
              "      <th>Home Ownership_1</th>\n",
              "      <th>Home Ownership_2</th>\n",
              "      <th>Home Ownership_3</th>\n",
              "      <th>Purpose_0</th>\n",
              "      <th>Purpose_1</th>\n",
              "      <th>Purpose_2</th>\n",
              "      <th>Purpose_3</th>\n",
              "      <th>Purpose_4</th>\n",
              "      <th>Purpose_5</th>\n",
              "      <th>Purpose_6</th>\n",
              "      <th>Purpose_7</th>\n",
              "      <th>Purpose_8</th>\n",
              "    </tr>\n",
              "  </thead>\n",
              "  <tbody>\n",
              "    <tr>\n",
              "      <th>0</th>\n",
              "      <td>0.000092</td>\n",
              "      <td>0.0</td>\n",
              "      <td>0.914801</td>\n",
              "      <td>1.000000</td>\n",
              "      <td>0.004971</td>\n",
              "      <td>0.043198</td>\n",
              "      <td>0.308998</td>\n",
              "      <td>0.159091</td>\n",
              "      <td>0.131579</td>\n",
              "      <td>0.0</td>\n",
              "      <td>0.002219</td>\n",
              "      <td>0.000294</td>\n",
              "      <td>0.0</td>\n",
              "      <td>0.0</td>\n",
              "      <td>0.0</td>\n",
              "      <td>0.0</td>\n",
              "      <td>0.0</td>\n",
              "      <td>1.0</td>\n",
              "      <td>0.0</td>\n",
              "      <td>0.0</td>\n",
              "      <td>1.0</td>\n",
              "      <td>0.0</td>\n",
              "      <td>0.0</td>\n",
              "      <td>0.0</td>\n",
              "      <td>0.0</td>\n",
              "      <td>0.0</td>\n",
              "      <td>0.0</td>\n",
              "    </tr>\n",
              "    <tr>\n",
              "      <th>1</th>\n",
              "      <td>0.000063</td>\n",
              "      <td>1.0</td>\n",
              "      <td>0.019639</td>\n",
              "      <td>0.111111</td>\n",
              "      <td>0.004197</td>\n",
              "      <td>0.025061</td>\n",
              "      <td>0.120543</td>\n",
              "      <td>0.181818</td>\n",
              "      <td>0.078947</td>\n",
              "      <td>0.0</td>\n",
              "      <td>0.007668</td>\n",
              "      <td>0.000294</td>\n",
              "      <td>0.0</td>\n",
              "      <td>0.0</td>\n",
              "      <td>0.0</td>\n",
              "      <td>1.0</td>\n",
              "      <td>0.0</td>\n",
              "      <td>0.0</td>\n",
              "      <td>0.0</td>\n",
              "      <td>0.0</td>\n",
              "      <td>1.0</td>\n",
              "      <td>0.0</td>\n",
              "      <td>0.0</td>\n",
              "      <td>0.0</td>\n",
              "      <td>0.0</td>\n",
              "      <td>0.0</td>\n",
              "      <td>0.0</td>\n",
              "    </tr>\n",
              "    <tr>\n",
              "      <th>2</th>\n",
              "      <td>0.000092</td>\n",
              "      <td>1.0</td>\n",
              "      <td>0.020361</td>\n",
              "      <td>0.666667</td>\n",
              "      <td>0.005772</td>\n",
              "      <td>0.025163</td>\n",
              "      <td>0.572156</td>\n",
              "      <td>0.181818</td>\n",
              "      <td>0.078947</td>\n",
              "      <td>0.0</td>\n",
              "      <td>0.003105</td>\n",
              "      <td>0.000294</td>\n",
              "      <td>0.0</td>\n",
              "      <td>0.0</td>\n",
              "      <td>0.0</td>\n",
              "      <td>0.0</td>\n",
              "      <td>1.0</td>\n",
              "      <td>0.0</td>\n",
              "      <td>0.0</td>\n",
              "      <td>0.0</td>\n",
              "      <td>1.0</td>\n",
              "      <td>0.0</td>\n",
              "      <td>0.0</td>\n",
              "      <td>0.0</td>\n",
              "      <td>0.0</td>\n",
              "      <td>0.0</td>\n",
              "      <td>0.0</td>\n",
              "    </tr>\n",
              "    <tr>\n",
              "      <th>3</th>\n",
              "      <td>0.000295</td>\n",
              "      <td>0.0</td>\n",
              "      <td>0.017762</td>\n",
              "      <td>0.000000</td>\n",
              "      <td>0.006795</td>\n",
              "      <td>0.048405</td>\n",
              "      <td>0.151104</td>\n",
              "      <td>0.295455</td>\n",
              "      <td>0.184211</td>\n",
              "      <td>0.0</td>\n",
              "      <td>0.022149</td>\n",
              "      <td>0.000294</td>\n",
              "      <td>0.0</td>\n",
              "      <td>0.0</td>\n",
              "      <td>0.0</td>\n",
              "      <td>1.0</td>\n",
              "      <td>0.0</td>\n",
              "      <td>0.0</td>\n",
              "      <td>0.0</td>\n",
              "      <td>0.0</td>\n",
              "      <td>1.0</td>\n",
              "      <td>0.0</td>\n",
              "      <td>0.0</td>\n",
              "      <td>0.0</td>\n",
              "      <td>0.0</td>\n",
              "      <td>0.0</td>\n",
              "      <td>0.0</td>\n",
              "    </tr>\n",
              "    <tr>\n",
              "      <th>4</th>\n",
              "      <td>0.000027</td>\n",
              "      <td>1.0</td>\n",
              "      <td>0.016606</td>\n",
              "      <td>0.444444</td>\n",
              "      <td>0.004260</td>\n",
              "      <td>0.038174</td>\n",
              "      <td>0.161290</td>\n",
              "      <td>0.034091</td>\n",
              "      <td>0.052632</td>\n",
              "      <td>0.0</td>\n",
              "      <td>0.000222</td>\n",
              "      <td>0.000294</td>\n",
              "      <td>0.0</td>\n",
              "      <td>0.0</td>\n",
              "      <td>0.0</td>\n",
              "      <td>1.0</td>\n",
              "      <td>0.0</td>\n",
              "      <td>0.0</td>\n",
              "      <td>0.0</td>\n",
              "      <td>0.0</td>\n",
              "      <td>1.0</td>\n",
              "      <td>0.0</td>\n",
              "      <td>0.0</td>\n",
              "      <td>0.0</td>\n",
              "      <td>0.0</td>\n",
              "      <td>0.0</td>\n",
              "      <td>0.0</td>\n",
              "    </tr>\n",
              "  </tbody>\n",
              "</table>\n",
              "</div>"
            ],
            "text/plain": [
              "   Current Loan Amount  Term  Credit Score  ...  Purpose_6  Purpose_7  Purpose_8\n",
              "0             0.000092   0.0      0.914801  ...        0.0        0.0        0.0\n",
              "1             0.000063   1.0      0.019639  ...        0.0        0.0        0.0\n",
              "2             0.000092   1.0      0.020361  ...        0.0        0.0        0.0\n",
              "3             0.000295   0.0      0.017762  ...        0.0        0.0        0.0\n",
              "4             0.000027   1.0      0.016606  ...        0.0        0.0        0.0\n",
              "\n",
              "[5 rows x 27 columns]"
            ]
          },
          "metadata": {
            "tags": []
          },
          "execution_count": 460
        }
      ]
    },
    {
      "cell_type": "code",
      "metadata": {
        "id": "HCEECZclfgi6",
        "colab_type": "code",
        "colab": {}
      },
      "source": [
        "from sklearn.model_selection import train_test_split as tts"
      ],
      "execution_count": 0,
      "outputs": []
    },
    {
      "cell_type": "code",
      "metadata": {
        "id": "qjphHGuelztg",
        "colab_type": "code",
        "colab": {}
      },
      "source": [
        "X_train, X_test, Y_train, Y_test = tts(X, Y, test_size = 0.2, random_state = 42)"
      ],
      "execution_count": 0,
      "outputs": []
    },
    {
      "cell_type": "code",
      "metadata": {
        "id": "Uu6gvu4eGvs0",
        "colab_type": "code",
        "colab": {}
      },
      "source": [
        "train = pd.concat([X_train, Y_train], 1)"
      ],
      "execution_count": 0,
      "outputs": []
    },
    {
      "cell_type": "code",
      "metadata": {
        "id": "ITcHfO3cGv0-",
        "colab_type": "code",
        "outputId": "c23c33f9-ead4-4368-aee0-d7440e139bda",
        "colab": {
          "base_uri": "https://localhost:8080/",
          "height": 68
        }
      },
      "source": [
        "train[\"Loan Status\"].value_counts()"
      ],
      "execution_count": 0,
      "outputs": [
        {
          "output_type": "execute_result",
          "data": {
            "text/plain": [
              "1    48167\n",
              "0    14091\n",
              "Name: Loan Status, dtype: int64"
            ]
          },
          "metadata": {
            "tags": []
          },
          "execution_count": 464
        }
      ]
    },
    {
      "cell_type": "markdown",
      "metadata": {
        "id": "6x9MJb57ZYRD",
        "colab_type": "text"
      },
      "source": [
        "Oversampling"
      ]
    },
    {
      "cell_type": "code",
      "metadata": {
        "id": "NvsStVUcdyAG",
        "colab_type": "code",
        "outputId": "72e3a8c4-f071-4ccc-ad22-cfe635437a53",
        "colab": {
          "base_uri": "https://localhost:8080/",
          "height": 516
        }
      },
      "source": [
        "labels = ['Charged Off','Fully Paid']\n",
        "colorses = ['#00ff80', '#00bfff']\n",
        "# mpl.rcParams['font.size'] = 15.0\n",
        "values = ['60202','17621']\n",
        "# explode = (0, 0.6, 0, 0)\n",
        "fig1, ax1 = plt.subplots(figsize=(8,8))\n",
        "ax1.pie(values, labels=labels, autopct='%1.1f%%',\n",
        "        shadow=True, startangle=50,colors = colorses)\n",
        "ax1.axis('equal')  \n",
        "\n",
        "plt.title('CLASS IMBALANCE ON TARGET VARIABLE BEFORE RESAMPLING',pad=30)\n",
        "plt.legend(labels,loc=3)\n",
        "\n",
        "plt.show()\n"
      ],
      "execution_count": 0,
      "outputs": [
        {
          "output_type": "display_data",
          "data": {
            "image/png": "[encoded data removed]",
            "text/plain": [
              "<Figure size 576x576 with 1 Axes>"
            ]
          },
          "metadata": {
            "tags": []
          }
        }
      ]
    },
    {
      "cell_type": "code",
      "metadata": {
        "id": "TN9ZGJZK-dJ0",
        "colab_type": "code",
        "colab": {}
      },
      "source": [
        "from sklearn.utils import resample"
      ],
      "execution_count": 0,
      "outputs": []
    },
    {
      "cell_type": "code",
      "metadata": {
        "id": "VvJUO_rsZkRO",
        "colab_type": "code",
        "colab": {}
      },
      "source": [
        "zero = train[train[\"Loan Status\"]==0]\n",
        "one = train[train[\"Loan Status\"]==1]"
      ],
      "execution_count": 0,
      "outputs": []
    },
    {
      "cell_type": "code",
      "metadata": {
        "id": "_68eYecYVwTf",
        "colab_type": "code",
        "outputId": "86970c0e-603c-46ec-80da-9cff041c2c46",
        "colab": {
          "base_uri": "https://localhost:8080/",
          "height": 34
        }
      },
      "source": [
        "len(zero)/len(train) * 100"
      ],
      "execution_count": 0,
      "outputs": [
        {
          "output_type": "execute_result",
          "data": {
            "text/plain": [
              "22.633235889363615"
            ]
          },
          "metadata": {
            "tags": []
          },
          "execution_count": 468
        }
      ]
    },
    {
      "cell_type": "code",
      "metadata": {
        "id": "EpijUqcIAk3_",
        "colab_type": "code",
        "colab": {}
      },
      "source": [
        "zero_upsampled = resample(zero,\n",
        "                          replace=True, # have to make duplicates\n",
        "                          n_samples=len(one),\n",
        "                          random_state=27) "
      ],
      "execution_count": 0,
      "outputs": []
    },
    {
      "cell_type": "code",
      "metadata": {
        "id": "OIHmNchSagYS",
        "colab_type": "code",
        "colab": {}
      },
      "source": [
        "upsampled = pd.concat([one, zero_upsampled])"
      ],
      "execution_count": 0,
      "outputs": []
    },
    {
      "cell_type": "code",
      "metadata": {
        "id": "e_iF6bJFagwR",
        "colab_type": "code",
        "outputId": "10a89412-48c2-4d3d-a71e-b0f03ad66c3f",
        "colab": {
          "base_uri": "https://localhost:8080/",
          "height": 68
        }
      },
      "source": [
        "upsampled[\"Loan Status\"].value_counts()"
      ],
      "execution_count": 0,
      "outputs": [
        {
          "output_type": "execute_result",
          "data": {
            "text/plain": [
              "1    48167\n",
              "0    48167\n",
              "Name: Loan Status, dtype: int64"
            ]
          },
          "metadata": {
            "tags": []
          },
          "execution_count": 471
        }
      ]
    },
    {
      "cell_type": "code",
      "metadata": {
        "colab_type": "code",
        "outputId": "82db106a-e495-458e-bbc0-33ab1dacb742",
        "id": "2H0-YJLRo04s",
        "colab": {
          "base_uri": "https://localhost:8080/",
          "height": 516
        }
      },
      "source": [
        "labels = ['Charged Off','Fully Paid']\n",
        "colorses = ['#00ff80', '#00bfff']\n",
        "# mpl.rcParams['font.size'] = 15.0\n",
        "values = ['48167','48167']\n",
        "# explode = (0, 0.6, 0, 0)\n",
        "fig1, ax1 = plt.subplots(figsize=(8,8))\n",
        "ax1.pie(values, labels=labels, autopct='%1.1f%%',\n",
        "        shadow=True, startangle=50,colors = colorses)\n",
        "ax1.axis('equal')  \n",
        "\n",
        "plt.title('CLASS IMBALANCE ON TARGET VARIABLE AFTER RESAMPLING',pad=30)\n",
        "plt.legend(labels,loc=3)\n",
        "\n",
        "plt.show()\n"
      ],
      "execution_count": 0,
      "outputs": [
        {
          "output_type": "display_data",
          "data": {
            "image/png": "[encoded data removed]",
            "text/plain": [
              "<Figure size 576x576 with 1 Axes>"
            ]
          },
          "metadata": {
            "tags": []
          }
        }
      ]
    },
    {
      "cell_type": "code",
      "metadata": {
        "id": "mAxkrykYU95b",
        "colab_type": "code",
        "colab": {}
      },
      "source": [
        "X_train = train.drop([\"Loan Status\"],1)\n",
        "Y_train = train[\"Loan Status\"]"
      ],
      "execution_count": 0,
      "outputs": []
    },
    {
      "cell_type": "markdown",
      "metadata": {
        "id": "k0FySiel7Qhx",
        "colab_type": "text"
      },
      "source": [
        "Logistic Regression"
      ]
    },
    {
      "cell_type": "code",
      "metadata": {
        "id": "8G5-7gFZmWei",
        "colab_type": "code",
        "colab": {}
      },
      "source": [
        "from sklearn.linear_model import LogisticRegression"
      ],
      "execution_count": 0,
      "outputs": []
    },
    {
      "cell_type": "code",
      "metadata": {
        "id": "93cQw9TJmck3",
        "colab_type": "code",
        "colab": {}
      },
      "source": [
        "log = LogisticRegression()"
      ],
      "execution_count": 0,
      "outputs": []
    },
    {
      "cell_type": "code",
      "metadata": {
        "id": "6gvAFwdMmfvB",
        "colab_type": "code",
        "outputId": "2c645cd2-4321-423e-bca1-6ae1531cdc5c",
        "colab": {
          "base_uri": "https://localhost:8080/",
          "height": 238
        }
      },
      "source": [
        "log.fit(X_train, Y_train)"
      ],
      "execution_count": 0,
      "outputs": [
        {
          "output_type": "stream",
          "text": [
            "/usr/local/lib/python3.6/dist-packages/sklearn/linear_model/_logistic.py:940: ConvergenceWarning: lbfgs failed to converge (status=1):\n",
            "STOP: TOTAL NO. of ITERATIONS REACHED LIMIT.\n",
            "\n",
            "Increase the number of iterations (max_iter) or scale the data as shown in:\n",
            "    https://scikit-learn.org/stable/modules/preprocessing.html\n",
            "Please also refer to the documentation for alternative solver options:\n",
            "    https://scikit-learn.org/stable/modules/linear_model.html#logistic-regression\n",
            "  extra_warning_msg=_LOGISTIC_SOLVER_CONVERGENCE_MSG)\n"
          ],
          "name": "stderr"
        },
        {
          "output_type": "execute_result",
          "data": {
            "text/plain": [
              "LogisticRegression(C=1.0, class_weight=None, dual=False, fit_intercept=True,\n",
              "                   intercept_scaling=1, l1_ratio=None, max_iter=100,\n",
              "                   multi_class='auto', n_jobs=None, penalty='l2',\n",
              "                   random_state=None, solver='lbfgs', tol=0.0001, verbose=0,\n",
              "                   warm_start=False)"
            ]
          },
          "metadata": {
            "tags": []
          },
          "execution_count": 476
        }
      ]
    },
    {
      "cell_type": "code",
      "metadata": {
        "id": "a_9fSDbcmiLe",
        "colab_type": "code",
        "outputId": "8a723223-92cd-4959-b68e-cf75f5c1d700",
        "colab": {
          "base_uri": "https://localhost:8080/",
          "height": 34
        }
      },
      "source": [
        "Y_pred = log.predict(X_test)\n",
        "Y_pred"
      ],
      "execution_count": 0,
      "outputs": [
        {
          "output_type": "execute_result",
          "data": {
            "text/plain": [
              "array([1, 1, 1, ..., 1, 1, 1])"
            ]
          },
          "metadata": {
            "tags": []
          },
          "execution_count": 477
        }
      ]
    },
    {
      "cell_type": "code",
      "metadata": {
        "id": "wFG6yiHZmnXp",
        "colab_type": "code",
        "colab": {}
      },
      "source": [
        "from sklearn.metrics import confusion_matrix, accuracy_score, classification_report"
      ],
      "execution_count": 0,
      "outputs": []
    },
    {
      "cell_type": "code",
      "metadata": {
        "id": "qgeuSFfjmueX",
        "colab_type": "code",
        "outputId": "fc428ee3-e967-492e-8c29-4fa30d82b63a",
        "colab": {
          "base_uri": "https://localhost:8080/",
          "height": 51
        }
      },
      "source": [
        "confusion_matrix(Y_test, Y_pred)"
      ],
      "execution_count": 0,
      "outputs": [
        {
          "output_type": "execute_result",
          "data": {
            "text/plain": [
              "array([[  686,  2844],\n",
              "       [    0, 12035]])"
            ]
          },
          "metadata": {
            "tags": []
          },
          "execution_count": 479
        }
      ]
    },
    {
      "cell_type": "code",
      "metadata": {
        "id": "6p9Q8xq2mxfW",
        "colab_type": "code",
        "outputId": "fd1f3611-010a-40ae-b631-e9bec5a9fe80",
        "colab": {
          "base_uri": "https://localhost:8080/",
          "height": 34
        }
      },
      "source": [
        "accuracy_score(Y_test, Y_pred)"
      ],
      "execution_count": 0,
      "outputs": [
        {
          "output_type": "execute_result",
          "data": {
            "text/plain": [
              "0.8172823642788307"
            ]
          },
          "metadata": {
            "tags": []
          },
          "execution_count": 480
        }
      ]
    },
    {
      "cell_type": "code",
      "metadata": {
        "id": "ozsuLiDDm5gg",
        "colab_type": "code",
        "outputId": "1eb4f01b-1a9f-4f06-af56-93f2f207e6f0",
        "colab": {
          "base_uri": "https://localhost:8080/",
          "height": 170
        }
      },
      "source": [
        "print(classification_report(Y_test, Y_pred))"
      ],
      "execution_count": 0,
      "outputs": [
        {
          "output_type": "stream",
          "text": [
            "              precision    recall  f1-score   support\n",
            "\n",
            "           0       1.00      0.19      0.33      3530\n",
            "           1       0.81      1.00      0.89     12035\n",
            "\n",
            "    accuracy                           0.82     15565\n",
            "   macro avg       0.90      0.60      0.61     15565\n",
            "weighted avg       0.85      0.82      0.77     15565\n",
            "\n"
          ],
          "name": "stdout"
        }
      ]
    },
    {
      "cell_type": "code",
      "metadata": {
        "colab_type": "code",
        "id": "rvRymSgnzuSj",
        "colab": {}
      },
      "source": [
        "from sklearn.metrics import roc_curve, auc"
      ],
      "execution_count": 0,
      "outputs": []
    },
    {
      "cell_type": "code",
      "metadata": {
        "colab_type": "code",
        "id": "J5tk8N0zzuSt",
        "colab": {}
      },
      "source": [
        "Y_prob = log.predict_proba(X_test)[:,1]"
      ],
      "execution_count": 0,
      "outputs": []
    },
    {
      "cell_type": "code",
      "metadata": {
        "colab_type": "code",
        "id": "HkPqMTopzuS0",
        "colab": {}
      },
      "source": [
        "false_positive_rate, true_positive_rate, thresholds = roc_curve(Y_test, Y_prob)\n",
        "roc_auc = auc(false_positive_rate, true_positive_rate)"
      ],
      "execution_count": 0,
      "outputs": []
    },
    {
      "cell_type": "code",
      "metadata": {
        "colab_type": "code",
        "outputId": "17ce063c-7cd5-477b-a934-52de0d1b4f46",
        "id": "WvbStXZKzuS4",
        "colab": {
          "base_uri": "https://localhost:8080/",
          "height": 684
        }
      },
      "source": [
        "from sklearn.metrics import roc_auc_score\n",
        "from sklearn.metrics import roc_curve\n",
        "import matplotlib.pyplot as plt\n",
        "plt.figure(figsize=(10,10))\n",
        "plt.title('Receiver Operating Characteristic')\n",
        "plt.plot(false_positive_rate,true_positive_rate, color='red',label = 'AUC = %0.2f' % roc_auc)\n",
        "plt.legend(loc = 'lower right')\n",
        "plt.plot([0, 1], [0, 1],linestyle='--')\n",
        "plt.axis('tight')\n",
        "plt.ylabel('True Positive Rate')\n",
        "plt.xlabel('False Positive Rate')"
      ],
      "execution_count": 0,
      "outputs": [
        {
          "output_type": "execute_result",
          "data": {
            "text/plain": [
              "Text(0.5, 0, 'False Positive Rate')"
            ]
          },
          "metadata": {
            "tags": []
          },
          "execution_count": 485
        },
        {
          "output_type": "display_data",
          "data": {
            "image/png": "[encoded data removed]",
            "text/plain": [
              "<Figure size 720x720 with 1 Axes>"
            ]
          },
          "metadata": {
            "tags": []
          }
        }
      ]
    },
    {
      "cell_type": "markdown",
      "metadata": {
        "id": "I4jpmi5GR44X",
        "colab_type": "text"
      },
      "source": [
        "KNN"
      ]
    },
    {
      "cell_type": "code",
      "metadata": {
        "id": "NNw-apd-rfbM",
        "colab_type": "code",
        "colab": {}
      },
      "source": [
        "from sklearn.neighbors import KNeighborsClassifier"
      ],
      "execution_count": 0,
      "outputs": []
    },
    {
      "cell_type": "code",
      "metadata": {
        "colab_type": "code",
        "id": "x_5FeIFZrOh5",
        "colab": {}
      },
      "source": [
        "knn = KNeighborsClassifier(n_neighbors=5)"
      ],
      "execution_count": 0,
      "outputs": []
    },
    {
      "cell_type": "code",
      "metadata": {
        "colab_type": "code",
        "id": "1eZmaM55rOiJ",
        "outputId": "a4d34b48-0281-4197-ca5c-f4b4f9dea3d6",
        "colab": {
          "base_uri": "https://localhost:8080/",
          "height": 68
        }
      },
      "source": [
        "knn.fit(X_train, Y_train)"
      ],
      "execution_count": 0,
      "outputs": [
        {
          "output_type": "execute_result",
          "data": {
            "text/plain": [
              "KNeighborsClassifier(algorithm='auto', leaf_size=30, metric='minkowski',\n",
              "                     metric_params=None, n_jobs=None, n_neighbors=5, p=2,\n",
              "                     weights='uniform')"
            ]
          },
          "metadata": {
            "tags": []
          },
          "execution_count": 488
        }
      ]
    },
    {
      "cell_type": "code",
      "metadata": {
        "colab_type": "code",
        "id": "ZYiG3Sz9rOiU",
        "colab": {}
      },
      "source": [
        "Y_knn = knn.predict(X_test)"
      ],
      "execution_count": 0,
      "outputs": []
    },
    {
      "cell_type": "code",
      "metadata": {
        "colab_type": "code",
        "id": "9cplZDL9rOid",
        "outputId": "46d9e7c9-a77b-452c-bfa4-125f189966fa",
        "colab": {
          "base_uri": "https://localhost:8080/",
          "height": 51
        }
      },
      "source": [
        "confusion_matrix(Y_test, Y_knn)"
      ],
      "execution_count": 0,
      "outputs": [
        {
          "output_type": "execute_result",
          "data": {
            "text/plain": [
              "array([[ 1027,  2503],\n",
              "       [  740, 11295]])"
            ]
          },
          "metadata": {
            "tags": []
          },
          "execution_count": 490
        }
      ]
    },
    {
      "cell_type": "code",
      "metadata": {
        "colab_type": "code",
        "id": "NpsmwktlrOig",
        "outputId": "2b5930a0-84f1-48f3-d63b-4b2cc33c9da8",
        "colab": {
          "base_uri": "https://localhost:8080/",
          "height": 34
        }
      },
      "source": [
        "accuracy_score(Y_test, Y_knn)"
      ],
      "execution_count": 0,
      "outputs": [
        {
          "output_type": "execute_result",
          "data": {
            "text/plain": [
              "0.7916479280436878"
            ]
          },
          "metadata": {
            "tags": []
          },
          "execution_count": 491
        }
      ]
    },
    {
      "cell_type": "code",
      "metadata": {
        "colab_type": "code",
        "id": "07q3IJ5crOik",
        "outputId": "4a60de56-6a9e-4cb4-f845-2cb183975e89",
        "colab": {
          "base_uri": "https://localhost:8080/",
          "height": 170
        }
      },
      "source": [
        "print(classification_report(Y_test, Y_knn))"
      ],
      "execution_count": 0,
      "outputs": [
        {
          "output_type": "stream",
          "text": [
            "              precision    recall  f1-score   support\n",
            "\n",
            "           0       0.58      0.29      0.39      3530\n",
            "           1       0.82      0.94      0.87     12035\n",
            "\n",
            "    accuracy                           0.79     15565\n",
            "   macro avg       0.70      0.61      0.63     15565\n",
            "weighted avg       0.76      0.79      0.76     15565\n",
            "\n"
          ],
          "name": "stdout"
        }
      ]
    },
    {
      "cell_type": "code",
      "metadata": {
        "colab_type": "code",
        "id": "z64pri_bzkiQ",
        "colab": {}
      },
      "source": [
        "from sklearn.metrics import roc_curve, auc"
      ],
      "execution_count": 0,
      "outputs": []
    },
    {
      "cell_type": "code",
      "metadata": {
        "colab_type": "code",
        "id": "2PQ18YiDzkik",
        "colab": {}
      },
      "source": [
        "Y_prob = knn.predict_proba(X_test)[:,1]"
      ],
      "execution_count": 0,
      "outputs": []
    },
    {
      "cell_type": "code",
      "metadata": {
        "colab_type": "code",
        "id": "I0QU77H7zkiq",
        "colab": {}
      },
      "source": [
        "false_positive_rate, true_positive_rate, thresholds = roc_curve(Y_test, Y_prob)\n",
        "roc_auc = auc(false_positive_rate, true_positive_rate)"
      ],
      "execution_count": 0,
      "outputs": []
    },
    {
      "cell_type": "code",
      "metadata": {
        "colab_type": "code",
        "outputId": "ada70578-eef5-4303-9c41-27089065c46a",
        "id": "WxChH4uGzki3",
        "colab": {
          "base_uri": "https://localhost:8080/",
          "height": 684
        }
      },
      "source": [
        "from sklearn.metrics import roc_auc_score\n",
        "from sklearn.metrics import roc_curve\n",
        "import matplotlib.pyplot as plt\n",
        "plt.figure(figsize=(10,10))\n",
        "plt.title('Receiver Operating Characteristic')\n",
        "plt.plot(false_positive_rate,true_positive_rate, color='red',label = 'AUC = %0.2f' % roc_auc)\n",
        "plt.legend(loc = 'lower right')\n",
        "plt.plot([0, 1], [0, 1],linestyle='--')\n",
        "plt.axis('tight')\n",
        "plt.ylabel('True Positive Rate')\n",
        "plt.xlabel('False Positive Rate')"
      ],
      "execution_count": 0,
      "outputs": [
        {
          "output_type": "execute_result",
          "data": {
            "text/plain": [
              "Text(0.5, 0, 'False Positive Rate')"
            ]
          },
          "metadata": {
            "tags": []
          },
          "execution_count": 496
        },
        {
          "output_type": "display_data",
          "data": {
            "image/png": "[encoded data removed]",
            "text/plain": [
              "<Figure size 720x720 with 1 Axes>"
            ]
          },
          "metadata": {
            "tags": []
          }
        }
      ]
    },
    {
      "cell_type": "markdown",
      "metadata": {
        "id": "dqCnBxDIST2t",
        "colab_type": "text"
      },
      "source": [
        "Random Forest Classifier"
      ]
    },
    {
      "cell_type": "code",
      "metadata": {
        "colab_type": "code",
        "id": "UDZVlm3PrZWC",
        "colab": {}
      },
      "source": [
        "from sklearn.ensemble import RandomForestClassifier"
      ],
      "execution_count": 0,
      "outputs": []
    },
    {
      "cell_type": "code",
      "metadata": {
        "colab_type": "code",
        "id": "qH6NOPW9rZWM",
        "colab": {}
      },
      "source": [
        "random = RandomForestClassifier()"
      ],
      "execution_count": 0,
      "outputs": []
    },
    {
      "cell_type": "code",
      "metadata": {
        "colab_type": "code",
        "id": "ExqX_ZQdrZWP",
        "outputId": "d7de0d5a-76df-43ec-aac8-a229b3808783",
        "colab": {
          "base_uri": "https://localhost:8080/",
          "height": 153
        }
      },
      "source": [
        "random.fit(X_train, Y_train)"
      ],
      "execution_count": 0,
      "outputs": [
        {
          "output_type": "execute_result",
          "data": {
            "text/plain": [
              "RandomForestClassifier(bootstrap=True, ccp_alpha=0.0, class_weight=None,\n",
              "                       criterion='gini', max_depth=None, max_features='auto',\n",
              "                       max_leaf_nodes=None, max_samples=None,\n",
              "                       min_impurity_decrease=0.0, min_impurity_split=None,\n",
              "                       min_samples_leaf=1, min_samples_split=2,\n",
              "                       min_weight_fraction_leaf=0.0, n_estimators=100,\n",
              "                       n_jobs=None, oob_score=False, random_state=None,\n",
              "                       verbose=0, warm_start=False)"
            ]
          },
          "metadata": {
            "tags": []
          },
          "execution_count": 499
        }
      ]
    },
    {
      "cell_type": "code",
      "metadata": {
        "colab_type": "code",
        "id": "bt6KXKnDrZWU",
        "colab": {}
      },
      "source": [
        "Y_random = random.predict(X_test)"
      ],
      "execution_count": 0,
      "outputs": []
    },
    {
      "cell_type": "code",
      "metadata": {
        "colab_type": "code",
        "id": "Gi2_Yp6crZWY",
        "outputId": "c91a7384-feab-4987-e0ad-69a37b5ce587",
        "colab": {
          "base_uri": "https://localhost:8080/",
          "height": 51
        }
      },
      "source": [
        "confusion_matrix(Y_test, Y_random)"
      ],
      "execution_count": 0,
      "outputs": [
        {
          "output_type": "execute_result",
          "data": {
            "text/plain": [
              "array([[  867,  2663],\n",
              "       [   99, 11936]])"
            ]
          },
          "metadata": {
            "tags": []
          },
          "execution_count": 501
        }
      ]
    },
    {
      "cell_type": "code",
      "metadata": {
        "colab_type": "code",
        "id": "ycQNZOaerZWd",
        "outputId": "7749b3da-1b89-4a0c-d2d1-2827b1c92b62",
        "colab": {
          "base_uri": "https://localhost:8080/",
          "height": 34
        }
      },
      "source": [
        "accuracy_score(Y_test, Y_random)"
      ],
      "execution_count": 0,
      "outputs": [
        {
          "output_type": "execute_result",
          "data": {
            "text/plain": [
              "0.822550594282043"
            ]
          },
          "metadata": {
            "tags": []
          },
          "execution_count": 502
        }
      ]
    },
    {
      "cell_type": "code",
      "metadata": {
        "colab_type": "code",
        "id": "kAEkqvznrZWf",
        "outputId": "6a90796f-f918-49d6-c334-56669884ae6e",
        "colab": {
          "base_uri": "https://localhost:8080/",
          "height": 170
        }
      },
      "source": [
        "print(classification_report(Y_test, Y_random))"
      ],
      "execution_count": 0,
      "outputs": [
        {
          "output_type": "stream",
          "text": [
            "              precision    recall  f1-score   support\n",
            "\n",
            "           0       0.90      0.25      0.39      3530\n",
            "           1       0.82      0.99      0.90     12035\n",
            "\n",
            "    accuracy                           0.82     15565\n",
            "   macro avg       0.86      0.62      0.64     15565\n",
            "weighted avg       0.84      0.82      0.78     15565\n",
            "\n"
          ],
          "name": "stdout"
        }
      ]
    },
    {
      "cell_type": "code",
      "metadata": {
        "id": "3J-y3BmMqfAP",
        "colab_type": "code",
        "colab": {}
      },
      "source": [
        "from sklearn.metrics import roc_curve, auc"
      ],
      "execution_count": 0,
      "outputs": []
    },
    {
      "cell_type": "code",
      "metadata": {
        "id": "V5EMjmcouIOF",
        "colab_type": "code",
        "colab": {}
      },
      "source": [
        "Y_prob = random.predict_proba(X_test)[:,1]"
      ],
      "execution_count": 0,
      "outputs": []
    },
    {
      "cell_type": "code",
      "metadata": {
        "id": "E6OnCmrjzSIN",
        "colab_type": "code",
        "colab": {}
      },
      "source": [
        "false_positive_rate, true_positive_rate, thresholds = roc_curve(Y_test, Y_prob)\n",
        "roc_auc = auc(false_positive_rate, true_positive_rate)"
      ],
      "execution_count": 0,
      "outputs": []
    },
    {
      "cell_type": "code",
      "metadata": {
        "id": "ZGUS_l_PuURd",
        "colab_type": "code",
        "outputId": "404b4877-1216-4852-9f69-cf16da2bdbb0",
        "colab": {
          "base_uri": "https://localhost:8080/",
          "height": 684
        }
      },
      "source": [
        "from sklearn.metrics import roc_auc_score\n",
        "from sklearn.metrics import roc_curve\n",
        "import matplotlib.pyplot as plt\n",
        "plt.figure(figsize=(10,10))\n",
        "plt.title('Receiver Operating Characteristic')\n",
        "plt.plot(false_positive_rate,true_positive_rate, color='red',label = 'AUC = %0.2f' % roc_auc)\n",
        "plt.legend(loc = 'lower right')\n",
        "plt.plot([0, 1], [0, 1],linestyle='--')\n",
        "plt.axis('tight')\n",
        "plt.ylabel('True Positive Rate')\n",
        "plt.xlabel('False Positive Rate')"
      ],
      "execution_count": 0,
      "outputs": [
        {
          "output_type": "execute_result",
          "data": {
            "text/plain": [
              "Text(0.5, 0, 'False Positive Rate')"
            ]
          },
          "metadata": {
            "tags": []
          },
          "execution_count": 507
        },
        {
          "output_type": "display_data",
          "data": {
            "image/png": "[encoded data removed]",
            "text/plain": [
              "<Figure size 720x720 with 1 Axes>"
            ]
          },
          "metadata": {
            "tags": []
          }
        }
      ]
    },
    {
      "cell_type": "code",
      "metadata": {
        "id": "16GYuqHdFUpO",
        "colab_type": "code",
        "colab": {}
      },
      "source": [
        ""
      ],
      "execution_count": 0,
      "outputs": []
    }
  ]
}